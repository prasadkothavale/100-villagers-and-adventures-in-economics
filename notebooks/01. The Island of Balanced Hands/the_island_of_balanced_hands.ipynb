{
 "cells": [
  {
   "cell_type": "code",
   "execution_count": null,
   "id": "9f0961d4",
   "metadata": {},
   "outputs": [],
   "source": [
    "from simulator import Simulator\n",
    "from utils import load_csv\n",
    "from market import Market"
   ]
  },
  {
   "cell_type": "markdown",
   "id": "4836d8f7-7ed2-402c-87dc-be206a8b5020",
   "metadata": {},
   "source": [
    "### Initialise"
   ]
  },
  {
   "cell_type": "code",
   "execution_count": null,
   "id": "a7062dad-fec3-4ad7-b6f9-580a1f3ced83",
   "metadata": {},
   "outputs": [],
   "source": [
    "simulator = Simulator(load_csv('data.csv'), 100, 40)"
   ]
  },
  {
   "cell_type": "markdown",
   "id": "66073eaa",
   "metadata": {},
   "source": [
    "### Execute"
   ]
  },
  {
   "cell_type": "code",
   "execution_count": null,
   "id": "16a6ce32",
   "metadata": {},
   "outputs": [],
   "source": [
    "for day in range(0, 1):\n",
    "    simulator.execute_week()"
   ]
  },
  {
   "cell_type": "code",
   "execution_count": null,
   "id": "450843bc-6add-41da-b6ca-3b176181c2a2",
   "metadata": {},
   "outputs": [],
   "source": [
    "# Scratchpad\n",
    "Market.print_transactions(simulator.weeks[0]['transactions'])"
   ]
  },
  {
   "cell_type": "code",
   "execution_count": null,
   "id": "4c34da9a",
   "metadata": {},
   "outputs": [],
   "source": [
    "Simulator.print_village(simulator.weeks[0]['village'])"
   ]
  }
 ],
 "metadata": {
  "kernelspec": {
   "display_name": "Python 3 (ipykernel)",
   "language": "python",
   "name": "python3"
  },
  "language_info": {
   "codemirror_mode": {
    "name": "ipython",
    "version": 3
   },
   "file_extension": ".py",
   "mimetype": "text/x-python",
   "name": "python",
   "nbconvert_exporter": "python",
   "pygments_lexer": "ipython3",
   "version": "3.10.12"
  }
 },
 "nbformat": 4,
 "nbformat_minor": 5
}
